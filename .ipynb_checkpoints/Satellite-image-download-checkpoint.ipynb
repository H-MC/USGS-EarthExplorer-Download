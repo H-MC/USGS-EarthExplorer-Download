{
 "cells": [
  {
   "cell_type": "code",
   "execution_count": 1,
   "id": "531adac3",
   "metadata": {
    "_cell_guid": "b1076dfc-b9ad-4769-8c92-a6c4dae69d19",
    "_uuid": "8f2839f25d086af736a60e9eeb907d3b93b6e0e5",
    "execution": {
     "iopub.execute_input": "2021-10-20T12:02:50.691595Z",
     "iopub.status.busy": "2021-10-20T12:02:50.690103Z",
     "iopub.status.idle": "2021-10-20T12:02:50.886890Z",
     "shell.execute_reply": "2021-10-20T12:02:50.886204Z",
     "shell.execute_reply.started": "2021-10-20T11:52:41.226587Z"
    },
    "papermill": {
     "duration": 0.210542,
     "end_time": "2021-10-20T12:02:50.887058",
     "exception": false,
     "start_time": "2021-10-20T12:02:50.676516",
     "status": "completed"
    },
    "tags": []
   },
   "outputs": [],
   "source": [
    "import os, cv2, glob, shutil, time\n",
    "import pandas as pd\n",
    "import numpy as np\n",
    "import zipfile\n",
    "import getpass\n",
    "import warnings\n",
    "warnings.filterwarnings('ignore')\n",
    "\n",
    "import landsatxplore\n",
    "from landsatxplore.earthexplorer import EarthExplorer\n",
    "from retry import retry\n",
    "\n",
    "from S2_download import S2_download"
   ]
  },
  {
   "cell_type": "code",
   "execution_count": 2,
   "id": "a71d1a2e",
   "metadata": {},
   "outputs": [],
   "source": [
    "# Initial variables\n",
    "EXTRACT = False\n",
    "TRY_TIME = 3\n",
    "output_dir = './download'"
   ]
  },
  {
   "cell_type": "code",
   "execution_count": 2,
   "id": "77f17ad5",
   "metadata": {},
   "outputs": [
    {
     "name": "stdout",
     "output_type": "stream",
     "text": [
      "CSV File Path from EarthExplorer:\n",
      "S2_List_Data_Example_2022.csv\n",
      "Username: User\n",
      "Password: ········\n"
     ]
    }
   ],
   "source": [
    "# Enter data list (.csv), Username and Password\n",
    "csv_path = input('CSV File Path from EarthExplorer:\\n')\n",
    "username = input('Username: ')\n",
    "password = getpass.getpass('Password: ')\n",
    "\n",
    "# Create a folder for save data\n",
    "try:\n",
    "    os.mkdir(output_dir)\n",
    "    print(f'\\nCreate \"{output_dir}\"')\n",
    "except:\n",
    "    pass"
   ]
  },
  {
   "cell_type": "code",
   "execution_count": 4,
   "id": "10cf3556",
   "metadata": {
    "execution": {
     "iopub.execute_input": "2021-10-20T12:02:50.958088Z",
     "iopub.status.busy": "2021-10-20T12:02:50.957237Z",
     "iopub.status.idle": "2021-10-20T12:02:50.959969Z",
     "shell.execute_reply": "2021-10-20T12:02:50.959509Z",
     "shell.execute_reply.started": "2021-10-06T11:48:09.314414Z"
    },
    "papermill": {
     "duration": 0.01557,
     "end_time": "2021-10-20T12:02:50.960089",
     "exception": false,
     "start_time": "2021-10-20T12:02:50.944519",
     "status": "completed"
    },
    "scrolled": true,
    "tags": []
   },
   "outputs": [
    {
     "name": "stdout",
     "output_type": "stream",
     "text": [
      "Total Images:  99\n"
     ]
    }
   ],
   "source": [
    "# Read Image ID from CSV file\n",
    "df = pd.read_csv(csv_path,  encoding='ISO-8859–1', index_col=False)\n",
    "imageID = df['Entity ID']\n",
    "print('Total Images: ', len(imageID))"
   ]
  },
  {
   "cell_type": "code",
   "execution_count": null,
   "id": "6d02a5aa",
   "metadata": {
    "scrolled": true
   },
   "outputs": [],
   "source": [
    "failure=[]\n",
    "\n",
    "for ID in imageID:\n",
    "    try:\n",
    "        S2_download(username=username, \n",
    "                    password=password,\n",
    "                    EntityID=ID,\n",
    "                    OUTPUT_DIR=output_dir)\n",
    "    except:\n",
    "        print(f'{ID} failed')\n",
    "        failure.append(ID)\n",
    "        pass\n",
    "    \n",
    "    time.sleep(5)\n",
    "    "
   ]
  },
  {
   "cell_type": "code",
   "execution_count": null,
   "id": "a9bbc7b1",
   "metadata": {},
   "outputs": [],
   "source": [
    "print('Fail File: ', failure)"
   ]
  }
 ],
 "metadata": {
  "kernelspec": {
   "display_name": "Python 3 (ipykernel)",
   "language": "python",
   "name": "python3"
  },
  "language_info": {
   "codemirror_mode": {
    "name": "ipython",
    "version": 3
   },
   "file_extension": ".py",
   "mimetype": "text/x-python",
   "name": "python",
   "nbconvert_exporter": "python",
   "pygments_lexer": "ipython3",
   "version": "3.7.10"
  },
  "papermill": {
   "default_parameters": {},
   "duration": 86.642909,
   "end_time": "2021-10-20T12:04:10.376824",
   "environment_variables": {},
   "exception": null,
   "input_path": "__notebook__.ipynb",
   "output_path": "__notebook__.ipynb",
   "parameters": {},
   "start_time": "2021-10-20T12:02:43.733915",
   "version": "2.3.3"
  }
 },
 "nbformat": 4,
 "nbformat_minor": 5
}
